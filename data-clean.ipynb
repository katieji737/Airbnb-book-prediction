{
 "cells": [
  {
   "cell_type": "code",
   "execution_count": 1,
   "metadata": {},
   "outputs": [],
   "source": [
    "import pandas as pd\n",
    "import numpy as np\n",
    "import re"
   ]
  },
  {
   "cell_type": "code",
   "execution_count": 2,
   "metadata": {
    "scrolled": true
   },
   "outputs": [
    {
     "name": "stderr",
     "output_type": "stream",
     "text": [
      "/Users/katie/anaconda3/lib/python3.6/site-packages/IPython/core/interactiveshell.py:2728: DtypeWarning: Columns (2,4,6,7,8,10,11,28,35,43,45,69) have mixed types. Specify dtype option on import or set low_memory=False.\n",
      "  interactivity=interactivity, compiler=compiler, result=result)\n"
     ]
    }
   ],
   "source": [
    "training_x=pd.read_csv('airbnb_train_x.csv')\n",
    "training_y=pd.read_csv('airbnb_train_y.csv')\n",
    "test_x=pd.read_csv('airbnb_test_x.csv')"
   ]
  },
  {
   "cell_type": "code",
   "execution_count": 3,
   "metadata": {},
   "outputs": [],
   "source": [
    "training_x['label']= 'train'\n",
    "test_x['label']= 'test'\n",
    "df = pd.concat([training_x,test_x],axis=0,ignore_index=True)"
   ]
  },
  {
   "cell_type": "code",
   "execution_count": 4,
   "metadata": {
    "scrolled": true
   },
   "outputs": [
    {
     "data": {
      "text/plain": [
       "square_feet                         110430\n",
       "host_acceptance_rate                102956\n",
       "license                              96239\n",
       "monthly_price                        89067\n",
       "weekly_price                         85144\n",
       "jurisdiction_names                   59155\n",
       "notes                                54567\n",
       "is_business_travel_ready             50116\n",
       "security_deposit                     45782\n",
       "interaction                          40317\n",
       "access                               38757\n",
       "neighborhood_overview                34575\n",
       "host_about                           34528\n",
       "house_rules                          34105\n",
       "transit                              32772\n",
       "space                                23689\n",
       "cleaning_fee                         20636\n",
       "host_neighbourhood                   19344\n",
       "host_response_rate                   17775\n",
       "host_response_time                   17775\n",
       "neighbourhood                        15158\n",
       "summary                               3349\n",
       "zipcode                               1182\n",
       "market                                 485\n",
       "host_location                          469\n",
       "bathrooms                              282\n",
       "host_identity_verified                 171\n",
       "host_name                              169\n",
       "host_listings_count                    166\n",
       "host_since                             163\n",
       "                                     ...  \n",
       "require_guest_profile_picture           22\n",
       "requires_license                        22\n",
       "room_type                               22\n",
       "require_guest_phone_verification        22\n",
       "price                                   22\n",
       "is_location_exact                       22\n",
       "street                                  22\n",
       "instant_bookable                        14\n",
       "longitude                               12\n",
       "host_verifications                      11\n",
       "latitude                                11\n",
       "maximum_nights                          11\n",
       "minimum_nights                          11\n",
       "first_review                            10\n",
       "country_code                             9\n",
       "experiences_offered                      3\n",
       "city_name                                2\n",
       "country                                  1\n",
       "bed_type                                 1\n",
       "accommodates                             0\n",
       "availability_365                         0\n",
       "amenities                                0\n",
       "availability_30                          0\n",
       "label                                    0\n",
       "availability_60                          0\n",
       "availability_90                          0\n",
       "cancellation_policy                      0\n",
       "extra_people                             0\n",
       "guests_included                          0\n",
       "Unnamed: 0                               0\n",
       "Length: 71, dtype: int64"
      ]
     },
     "execution_count": 4,
     "metadata": {},
     "output_type": "execute_result"
    }
   ],
   "source": [
    "df.isnull().sum().sort_values(ascending=False)"
   ]
  },
  {
   "cell_type": "markdown",
   "metadata": {},
   "source": [
    "# Amenities"
   ]
  },
  {
   "cell_type": "code",
   "execution_count": 5,
   "metadata": {},
   "outputs": [],
   "source": [
    "df.amenities=df.amenities.fillna(df['amenities'].mode()[0])\n",
    "\n",
    "a_dict = {}\n",
    "for index, row in df.iterrows():\n",
    "    amenities = row.amenities\n",
    "    values = amenities[1:-1].split(',')\n",
    "    for i in values:\n",
    "        i=i.strip().lower()\n",
    "        if i=='':\n",
    "            continue\n",
    "        if 'missing' in i:\n",
    "            continue\n",
    "        if i.startswith('\"'):\n",
    "            i=i[1:]\n",
    "        if i.endswith('\"'):\n",
    "            i=i[:-1]\n",
    "        if i not in a_dict:\n",
    "            a_dict[i]=1\n",
    "        else:\n",
    "            a_dict[i]=a_dict[i]+1\n",
    "                  \n",
    "\n",
    "keys = sorted(a_dict, key=a_dict.get, reverse=True)\n",
    "o_dict={}\n",
    "for key in keys:\n",
    "    o_dict[key]=[]\n",
    "    \n",
    "for index, row in df.iterrows():\n",
    "    amenities = row.amenities\n",
    "    values = amenities[1:-1].split(',')\n",
    "    values_n = []\n",
    "    for i in values:\n",
    "        i=i.strip().lower()\n",
    "        if i=='':\n",
    "            continue\n",
    "        if 'missing' in i:\n",
    "            continue\n",
    "        if i.startswith('\"'):\n",
    "            i=i[1:]\n",
    "        if i.endswith('\"'):\n",
    "            i=i[:-1]\n",
    "        if values_n==[]:\n",
    "            values_n=[i]\n",
    "        else:\n",
    "            values_n.append(i)\n",
    "    for j in o_dict:\n",
    "        if j in values_n:\n",
    "            if o_dict[j]==[]:\n",
    "                o_dict[j]=['1']\n",
    "            else:\n",
    "                o_dict[j].append('1')\n",
    "                \n",
    "        else:\n",
    "            if o_dict[j]==[]:\n",
    "                o_dict[j]=['0']\n",
    "            else:\n",
    "                o_dict[j].append('0')\n",
    "                \n",
    "df_a = pd.DataFrame(o_dict)\n",
    "df = pd.concat([df, df_a], axis=1)\n"
   ]
  },
  {
   "cell_type": "markdown",
   "metadata": {},
   "source": [
    "# host_verifications"
   ]
  },
  {
   "cell_type": "code",
   "execution_count": 6,
   "metadata": {},
   "outputs": [],
   "source": [
    "df.host_verifications=df.host_verifications.fillna(df['host_verifications'].mode()[0])\n",
    "\n",
    "\n",
    "a_dict = {}\n",
    "for index, row in df.iterrows():\n",
    "    veri = row.host_verifications\n",
    "    if type(veri) is float:\n",
    "        continue\n",
    "    values = veri[1:-1].split(',')\n",
    "    for i in values:\n",
    "        i=i.strip().lower()[1:-1]\n",
    "        if i not in a_dict:\n",
    "            a_dict[i]=1\n",
    "        else:\n",
    "            a_dict[i]=a_dict[i]+1\n",
    "                  \n",
    "\n",
    "keys = sorted(a_dict, key=a_dict.get, reverse=True)\n",
    "o_dict={}\n",
    "for key in keys:\n",
    "    o_dict[key]=[]\n",
    "    \n",
    "for index, row in df.iterrows():\n",
    "    veri = row.host_verifications\n",
    "    if type(veri) is float:\n",
    "        continue\n",
    "    values = veri[1:-1].split(',')\n",
    "    values_n = []\n",
    "    for i in values:\n",
    "        i=i.strip().lower()[1:-1]\n",
    "        if values_n==[]:\n",
    "            values_n=[i]\n",
    "        else:\n",
    "            values_n.append(i)\n",
    "    for j in o_dict:\n",
    "        if j in values_n:\n",
    "            if o_dict[j]==[]:\n",
    "                o_dict[j]=['1']\n",
    "            else:\n",
    "                o_dict[j].append('1')\n",
    "                \n",
    "        else:\n",
    "            if o_dict[j]==[]:\n",
    "                o_dict[j]=['0']\n",
    "            else:\n",
    "                o_dict[j].append('0')\n",
    "                \n",
    "df_a = pd.DataFrame(o_dict)\n",
    "df = pd.concat([df, df_a], axis=1)"
   ]
  },
  {
   "cell_type": "markdown",
   "metadata": {},
   "source": [
    "## access"
   ]
  },
  {
   "cell_type": "code",
   "execution_count": 7,
   "metadata": {},
   "outputs": [],
   "source": [
    "df.access=[(len(str(df.access[x]).split(' '))) for x in np.arange(len(df))]"
   ]
  },
  {
   "cell_type": "code",
   "execution_count": 8,
   "metadata": {},
   "outputs": [
    {
     "data": {
      "text/plain": [
       "0    22\n",
       "1     1\n",
       "2    27\n",
       "3    80\n",
       "4    26\n",
       "Name: access, dtype: int64"
      ]
     },
     "execution_count": 8,
     "metadata": {},
     "output_type": "execute_result"
    }
   ],
   "source": [
    "df.access.head()"
   ]
  },
  {
   "cell_type": "code",
   "execution_count": 9,
   "metadata": {},
   "outputs": [],
   "source": [
    "# access column: convert to 0-1 variable,1: has access description \n",
    "# df.access=df.access.fillna(0)\n",
    "# df.access[df.access!=0]=1"
   ]
  },
  {
   "cell_type": "markdown",
   "metadata": {},
   "source": [
    "## notes"
   ]
  },
  {
   "cell_type": "code",
   "execution_count": 10,
   "metadata": {},
   "outputs": [],
   "source": [
    "## notes \n",
    "df.notes=[(len(str(df.notes[x]).split(' '))) for x in np.arange(len(df))]"
   ]
  },
  {
   "cell_type": "code",
   "execution_count": 11,
   "metadata": {
    "scrolled": true
   },
   "outputs": [],
   "source": [
    "# notes column: convert to 0-1 variable,1: has notes \n",
    "# df.notes=df.notes.fillna(0)\n",
    "# df.notes[df.notes!=0]=1"
   ]
  },
  {
   "cell_type": "markdown",
   "metadata": {},
   "source": [
    "## house_rules"
   ]
  },
  {
   "cell_type": "code",
   "execution_count": 12,
   "metadata": {},
   "outputs": [],
   "source": [
    "df.house_rules=[(len(str(df.house_rules[x]).split(' '))) for x in np.arange(len(df))]"
   ]
  },
  {
   "cell_type": "code",
   "execution_count": 13,
   "metadata": {
    "scrolled": false
   },
   "outputs": [],
   "source": [
    "# house_rules column: convert to 0-1 variable,1: has house_rules\n",
    "# df.house_rules=df.house_rules.fillna(0)\n",
    "# df.house_rules[df.house_rules!=0]=1"
   ]
  },
  {
   "cell_type": "markdown",
   "metadata": {},
   "source": [
    "## host_about"
   ]
  },
  {
   "cell_type": "code",
   "execution_count": 14,
   "metadata": {},
   "outputs": [],
   "source": [
    "df.host_about=[(len(str(df.host_about[x]).split(' '))) for x in np.arange(len(df))]"
   ]
  },
  {
   "cell_type": "code",
   "execution_count": 15,
   "metadata": {
    "scrolled": false
   },
   "outputs": [],
   "source": [
    "# host_about column: convert to 0-1 variable,1: has host description \n",
    "# df.host_about=df.host_about.fillna(0)\n",
    "# df.host_about[df.host_about!=0]=1"
   ]
  },
  {
   "cell_type": "markdown",
   "metadata": {},
   "source": [
    "## transit"
   ]
  },
  {
   "cell_type": "code",
   "execution_count": 16,
   "metadata": {},
   "outputs": [],
   "source": [
    "df.transit=[(len(str(df.transit[x]).split(' '))) for x in np.arange(len(df))]"
   ]
  },
  {
   "cell_type": "code",
   "execution_count": 17,
   "metadata": {
    "scrolled": true
   },
   "outputs": [
    {
     "data": {
      "text/plain": [
       "0     1\n",
       "1     1\n",
       "2    66\n",
       "3    63\n",
       "4    37\n",
       "Name: transit, dtype: int64"
      ]
     },
     "execution_count": 17,
     "metadata": {},
     "output_type": "execute_result"
    }
   ],
   "source": [
    "df.transit.head()"
   ]
  },
  {
   "cell_type": "code",
   "execution_count": 18,
   "metadata": {
    "scrolled": false
   },
   "outputs": [],
   "source": [
    "# transit column: convert to 0-1 variable,1: has transit description\n",
    "# df.transit=df.transit.fillna(0)\n",
    "# df.transit[df.transit!=0]=1"
   ]
  },
  {
   "cell_type": "markdown",
   "metadata": {},
   "source": [
    "## interaction"
   ]
  },
  {
   "cell_type": "code",
   "execution_count": 19,
   "metadata": {},
   "outputs": [],
   "source": [
    "df.interaction=[(len(str(df.interaction[x]).split(' '))) for x in np.arange(len(df))]"
   ]
  },
  {
   "cell_type": "code",
   "execution_count": 20,
   "metadata": {
    "scrolled": false
   },
   "outputs": [],
   "source": [
    "# interaction column: convert to 0-1 variable,1: has interaction \n",
    "# df.interaction=df.interaction.fillna(0)\n",
    "# df.interaction[df.interaction!=0]=1"
   ]
  },
  {
   "cell_type": "markdown",
   "metadata": {},
   "source": [
    "## description"
   ]
  },
  {
   "cell_type": "code",
   "execution_count": 21,
   "metadata": {},
   "outputs": [],
   "source": [
    "df.description=[(len(str(df.description[x]).split(' '))) for x in np.arange(len(df))]"
   ]
  },
  {
   "cell_type": "code",
   "execution_count": 22,
   "metadata": {},
   "outputs": [],
   "source": [
    "# description column: convert to 0-1 variable,1: has interaction \n",
    "# df.description=df.description.fillna(0)\n",
    "# df.description[df.description!=0]=1"
   ]
  },
  {
   "cell_type": "markdown",
   "metadata": {},
   "source": [
    "## summary"
   ]
  },
  {
   "cell_type": "code",
   "execution_count": 23,
   "metadata": {},
   "outputs": [],
   "source": [
    "df.summary=[(len(str(df.summary[x]).split(' '))) for x in np.arange(len(df))]"
   ]
  },
  {
   "cell_type": "code",
   "execution_count": 24,
   "metadata": {
    "scrolled": true
   },
   "outputs": [],
   "source": [
    "# summary column: convert to 0-1 variable,1: has summary\n",
    "#df.summary=df.summary.fillna(0)\n",
    "#df.summary[df.summary!=0]=1"
   ]
  },
  {
   "cell_type": "markdown",
   "metadata": {},
   "source": [
    "## wrong rows\n",
    "- There're 9 wrong rows in training set and 2 records in testing set \n",
    "- We drop the 9 rows in training set and the 2 rows in testing set\n",
    "- And we'll assign label to the 2 rows in testing set manually in the end"
   ]
  },
  {
   "cell_type": "code",
   "execution_count": 25,
   "metadata": {
    "scrolled": true
   },
   "outputs": [
    {
     "data": {
      "text/plain": [
       "Real Bed         109361\n",
       "Futon              1120\n",
       "Pull-out Sofa       817\n",
       "Airbed              604\n",
       "Couch               295\n",
       "100%                  8\n",
       "81%                   2\n",
       "Name: bed_type, dtype: int64"
      ]
     },
     "execution_count": 25,
     "metadata": {},
     "output_type": "execute_result"
    }
   ],
   "source": [
    "# bed_type: groupby\n",
    "df.bed_type.value_counts()"
   ]
  },
  {
   "cell_type": "code",
   "execution_count": 26,
   "metadata": {
    "scrolled": true
   },
   "outputs": [
    {
     "data": {
      "text/plain": [
       "1.0                  52278\n",
       "1.0                  32010\n",
       "2.0                   8480\n",
       "2.0                   5210\n",
       "1.5                   3620\n",
       "1.5                   2297\n",
       "2.5                   2057\n",
       "3.0                   1330\n",
       "2.5                   1237\n",
       "3.0                    826\n",
       "3.5                    562\n",
       "4.0                    347\n",
       "3.5                    335\n",
       "4.0                    204\n",
       "0.5                    176\n",
       "0.0                    171\n",
       "0.0                    137\n",
       "4.5                    100\n",
       "0.5                     87\n",
       "4.5                     77\n",
       "5.0                     72\n",
       "8.0                     49\n",
       "5.5                     44\n",
       "5.0                     38\n",
       "6.0                     28\n",
       "7.0                     27\n",
       "5.5                     26\n",
       "8.0                     23\n",
       "6.5                     19\n",
       "6.0                     16\n",
       "7.0                      9\n",
       "7.5                      8\n",
       "6.5                      6\n",
       "7.5                      4\n",
       "15.0                     2\n",
       "Mid-Wilshire             2\n",
       "Downtown                 2\n",
       "Del Rey                  2\n",
       "Williamsburg             1\n",
       "Oceanview                1\n",
       "15.0                     1\n",
       "15.5                     1\n",
       "11.0                     1\n",
       "17.0                     1\n",
       "Long Beach               1\n",
       "North Shoal Creek        1\n",
       "Name: bathrooms, dtype: int64"
      ]
     },
     "execution_count": 26,
     "metadata": {},
     "output_type": "execute_result"
    }
   ],
   "source": [
    "df.bathrooms.value_counts()"
   ]
  },
  {
   "cell_type": "code",
   "execution_count": 27,
   "metadata": {
    "scrolled": true
   },
   "outputs": [
    {
     "data": {
      "text/html": [
       "<div>\n",
       "<style scoped>\n",
       "    .dataframe tbody tr th:only-of-type {\n",
       "        vertical-align: middle;\n",
       "    }\n",
       "\n",
       "    .dataframe tbody tr th {\n",
       "        vertical-align: top;\n",
       "    }\n",
       "\n",
       "    .dataframe thead th {\n",
       "        text-align: right;\n",
       "    }\n",
       "</style>\n",
       "<table border=\"1\" class=\"dataframe\">\n",
       "  <thead>\n",
       "    <tr style=\"text-align: right;\">\n",
       "      <th></th>\n",
       "      <th>Unnamed: 0</th>\n",
       "      <th>access</th>\n",
       "      <th>accommodates</th>\n",
       "      <th>amenities</th>\n",
       "      <th>availability_30</th>\n",
       "      <th>availability_365</th>\n",
       "      <th>availability_60</th>\n",
       "      <th>availability_90</th>\n",
       "      <th>bathrooms</th>\n",
       "      <th>bed_type</th>\n",
       "      <th>...</th>\n",
       "      <th>phone</th>\n",
       "      <th>photographer</th>\n",
       "      <th>reviews</th>\n",
       "      <th>selfie</th>\n",
       "      <th>sent_id</th>\n",
       "      <th>sesame</th>\n",
       "      <th>sesame_offline</th>\n",
       "      <th>weibo</th>\n",
       "      <th>work_email</th>\n",
       "      <th>zhima_selfie</th>\n",
       "    </tr>\n",
       "  </thead>\n",
       "  <tbody>\n",
       "    <tr>\n",
       "      <th>16245</th>\n",
       "      <td>16246</td>\n",
       "      <td>1</td>\n",
       "      <td>t</td>\n",
       "      <td>t</td>\n",
       "      <td>f</td>\n",
       "      <td>1</td>\n",
       "      <td>Long Beach, California, United States</td>\n",
       "      <td>Manuel</td>\n",
       "      <td>Long Beach</td>\n",
       "      <td>100%</td>\n",
       "      <td>...</td>\n",
       "      <td>0</td>\n",
       "      <td>0</td>\n",
       "      <td>0</td>\n",
       "      <td>0</td>\n",
       "      <td>0</td>\n",
       "      <td>0</td>\n",
       "      <td>0</td>\n",
       "      <td>0</td>\n",
       "      <td>0</td>\n",
       "      <td>0</td>\n",
       "    </tr>\n",
       "    <tr>\n",
       "      <th>30583</th>\n",
       "      <td>30584</td>\n",
       "      <td>1</td>\n",
       "      <td>t</td>\n",
       "      <td>t</td>\n",
       "      <td>t</td>\n",
       "      <td>2</td>\n",
       "      <td>Santa Monica, California, United States</td>\n",
       "      <td>Medi</td>\n",
       "      <td>Del Rey</td>\n",
       "      <td>100%</td>\n",
       "      <td>...</td>\n",
       "      <td>0</td>\n",
       "      <td>0</td>\n",
       "      <td>0</td>\n",
       "      <td>0</td>\n",
       "      <td>0</td>\n",
       "      <td>0</td>\n",
       "      <td>0</td>\n",
       "      <td>0</td>\n",
       "      <td>0</td>\n",
       "      <td>0</td>\n",
       "    </tr>\n",
       "    <tr>\n",
       "      <th>47614</th>\n",
       "      <td>47615</td>\n",
       "      <td>1</td>\n",
       "      <td>t</td>\n",
       "      <td>t</td>\n",
       "      <td>f</td>\n",
       "      <td>1</td>\n",
       "      <td>New York, New York, United States</td>\n",
       "      <td>David</td>\n",
       "      <td>Williamsburg</td>\n",
       "      <td>100%</td>\n",
       "      <td>...</td>\n",
       "      <td>0</td>\n",
       "      <td>0</td>\n",
       "      <td>0</td>\n",
       "      <td>0</td>\n",
       "      <td>0</td>\n",
       "      <td>0</td>\n",
       "      <td>0</td>\n",
       "      <td>0</td>\n",
       "      <td>0</td>\n",
       "      <td>0</td>\n",
       "    </tr>\n",
       "    <tr>\n",
       "      <th>56280</th>\n",
       "      <td>56281</td>\n",
       "      <td>1</td>\n",
       "      <td>t</td>\n",
       "      <td>t</td>\n",
       "      <td>t</td>\n",
       "      <td>2</td>\n",
       "      <td>Los Angeles, California, United States</td>\n",
       "      <td>Sharlette</td>\n",
       "      <td>Mid-Wilshire</td>\n",
       "      <td>100%</td>\n",
       "      <td>...</td>\n",
       "      <td>0</td>\n",
       "      <td>0</td>\n",
       "      <td>0</td>\n",
       "      <td>0</td>\n",
       "      <td>0</td>\n",
       "      <td>0</td>\n",
       "      <td>0</td>\n",
       "      <td>0</td>\n",
       "      <td>0</td>\n",
       "      <td>0</td>\n",
       "    </tr>\n",
       "    <tr>\n",
       "      <th>72539</th>\n",
       "      <td>72540</td>\n",
       "      <td>1</td>\n",
       "      <td>t</td>\n",
       "      <td>t</td>\n",
       "      <td>f</td>\n",
       "      <td>5</td>\n",
       "      <td>Los Angeles, California, United States</td>\n",
       "      <td>Ryan</td>\n",
       "      <td>Downtown</td>\n",
       "      <td>81%</td>\n",
       "      <td>...</td>\n",
       "      <td>0</td>\n",
       "      <td>0</td>\n",
       "      <td>0</td>\n",
       "      <td>0</td>\n",
       "      <td>0</td>\n",
       "      <td>0</td>\n",
       "      <td>0</td>\n",
       "      <td>0</td>\n",
       "      <td>0</td>\n",
       "      <td>0</td>\n",
       "    </tr>\n",
       "    <tr>\n",
       "      <th>75207</th>\n",
       "      <td>75208</td>\n",
       "      <td>1</td>\n",
       "      <td>t</td>\n",
       "      <td>t</td>\n",
       "      <td>t</td>\n",
       "      <td>2</td>\n",
       "      <td>Los Angeles, California, United States</td>\n",
       "      <td>Sharlette</td>\n",
       "      <td>Mid-Wilshire</td>\n",
       "      <td>100%</td>\n",
       "      <td>...</td>\n",
       "      <td>0</td>\n",
       "      <td>0</td>\n",
       "      <td>0</td>\n",
       "      <td>0</td>\n",
       "      <td>0</td>\n",
       "      <td>0</td>\n",
       "      <td>0</td>\n",
       "      <td>0</td>\n",
       "      <td>0</td>\n",
       "      <td>0</td>\n",
       "    </tr>\n",
       "    <tr>\n",
       "      <th>92584</th>\n",
       "      <td>92585</td>\n",
       "      <td>1</td>\n",
       "      <td>t</td>\n",
       "      <td>t</td>\n",
       "      <td>t</td>\n",
       "      <td>1</td>\n",
       "      <td>Austin, Texas, United States</td>\n",
       "      <td>Amanda</td>\n",
       "      <td>North Shoal Creek</td>\n",
       "      <td>100%</td>\n",
       "      <td>...</td>\n",
       "      <td>0</td>\n",
       "      <td>0</td>\n",
       "      <td>0</td>\n",
       "      <td>0</td>\n",
       "      <td>0</td>\n",
       "      <td>0</td>\n",
       "      <td>0</td>\n",
       "      <td>0</td>\n",
       "      <td>0</td>\n",
       "      <td>0</td>\n",
       "    </tr>\n",
       "    <tr>\n",
       "      <th>96067</th>\n",
       "      <td>96068</td>\n",
       "      <td>1</td>\n",
       "      <td>t</td>\n",
       "      <td>t</td>\n",
       "      <td>f</td>\n",
       "      <td>1</td>\n",
       "      <td>Los Angeles, California, United States</td>\n",
       "      <td>Moe</td>\n",
       "      <td>NaN</td>\n",
       "      <td>100%</td>\n",
       "      <td>...</td>\n",
       "      <td>0</td>\n",
       "      <td>0</td>\n",
       "      <td>0</td>\n",
       "      <td>0</td>\n",
       "      <td>0</td>\n",
       "      <td>0</td>\n",
       "      <td>0</td>\n",
       "      <td>0</td>\n",
       "      <td>0</td>\n",
       "      <td>0</td>\n",
       "    </tr>\n",
       "  </tbody>\n",
       "</table>\n",
       "<p>8 rows × 281 columns</p>\n",
       "</div>"
      ],
      "text/plain": [
       "       Unnamed: 0  access accommodates amenities availability_30  \\\n",
       "16245       16246       1            t         t               f   \n",
       "30583       30584       1            t         t               t   \n",
       "47614       47615       1            t         t               f   \n",
       "56280       56281       1            t         t               t   \n",
       "72539       72540       1            t         t               f   \n",
       "75207       75208       1            t         t               t   \n",
       "92584       92585       1            t         t               t   \n",
       "96067       96068       1            t         t               f   \n",
       "\n",
       "       availability_365                          availability_60  \\\n",
       "16245                 1    Long Beach, California, United States   \n",
       "30583                 2  Santa Monica, California, United States   \n",
       "47614                 1        New York, New York, United States   \n",
       "56280                 2   Los Angeles, California, United States   \n",
       "72539                 5   Los Angeles, California, United States   \n",
       "75207                 2   Los Angeles, California, United States   \n",
       "92584                 1             Austin, Texas, United States   \n",
       "96067                 1   Los Angeles, California, United States   \n",
       "\n",
       "      availability_90          bathrooms bed_type     ...      phone  \\\n",
       "16245          Manuel         Long Beach     100%     ...          0   \n",
       "30583            Medi            Del Rey     100%     ...          0   \n",
       "47614           David       Williamsburg     100%     ...          0   \n",
       "56280       Sharlette       Mid-Wilshire     100%     ...          0   \n",
       "72539            Ryan           Downtown      81%     ...          0   \n",
       "75207       Sharlette       Mid-Wilshire     100%     ...          0   \n",
       "92584          Amanda  North Shoal Creek     100%     ...          0   \n",
       "96067             Moe                NaN     100%     ...          0   \n",
       "\n",
       "      photographer reviews selfie sent_id sesame sesame_offline weibo  \\\n",
       "16245            0       0      0       0      0              0     0   \n",
       "30583            0       0      0       0      0              0     0   \n",
       "47614            0       0      0       0      0              0     0   \n",
       "56280            0       0      0       0      0              0     0   \n",
       "72539            0       0      0       0      0              0     0   \n",
       "75207            0       0      0       0      0              0     0   \n",
       "92584            0       0      0       0      0              0     0   \n",
       "96067            0       0      0       0      0              0     0   \n",
       "\n",
       "       work_email zhima_selfie  \n",
       "16245           0            0  \n",
       "30583           0            0  \n",
       "47614           0            0  \n",
       "56280           0            0  \n",
       "72539           0            0  \n",
       "75207           0            0  \n",
       "92584           0            0  \n",
       "96067           0            0  \n",
       "\n",
       "[8 rows x 281 columns]"
      ]
     },
     "execution_count": 27,
     "metadata": {},
     "output_type": "execute_result"
    }
   ],
   "source": [
    "# filter out wrong rows \n",
    "df[((df.bed_type=='81%') | (df.bed_type=='100%')) & (df.label=='train')]"
   ]
  },
  {
   "cell_type": "code",
   "execution_count": 28,
   "metadata": {
    "scrolled": false
   },
   "outputs": [
    {
     "data": {
      "text/html": [
       "<div>\n",
       "<style scoped>\n",
       "    .dataframe tbody tr th:only-of-type {\n",
       "        vertical-align: middle;\n",
       "    }\n",
       "\n",
       "    .dataframe tbody tr th {\n",
       "        vertical-align: top;\n",
       "    }\n",
       "\n",
       "    .dataframe thead th {\n",
       "        text-align: right;\n",
       "    }\n",
       "</style>\n",
       "<table border=\"1\" class=\"dataframe\">\n",
       "  <thead>\n",
       "    <tr style=\"text-align: right;\">\n",
       "      <th></th>\n",
       "      <th>Unnamed: 0</th>\n",
       "      <th>access</th>\n",
       "      <th>accommodates</th>\n",
       "      <th>amenities</th>\n",
       "      <th>availability_30</th>\n",
       "      <th>availability_365</th>\n",
       "      <th>availability_60</th>\n",
       "      <th>availability_90</th>\n",
       "      <th>bathrooms</th>\n",
       "      <th>bed_type</th>\n",
       "      <th>...</th>\n",
       "      <th>phone</th>\n",
       "      <th>photographer</th>\n",
       "      <th>reviews</th>\n",
       "      <th>selfie</th>\n",
       "      <th>sent_id</th>\n",
       "      <th>sesame</th>\n",
       "      <th>sesame_offline</th>\n",
       "      <th>weibo</th>\n",
       "      <th>work_email</th>\n",
       "      <th>zhima_selfie</th>\n",
       "    </tr>\n",
       "  </thead>\n",
       "  <tbody>\n",
       "    <tr>\n",
       "      <th>65791</th>\n",
       "      <td>65792</td>\n",
       "      <td>1</td>\n",
       "      <td>t</td>\n",
       "      <td>f</td>\n",
       "      <td>f</td>\n",
       "      <td>1</td>\n",
       "      <td>San Francisco, California, United States</td>\n",
       "      <td>Winni</td>\n",
       "      <td>Oceanview</td>\n",
       "      <td>NaN</td>\n",
       "      <td>...</td>\n",
       "      <td>0</td>\n",
       "      <td>0</td>\n",
       "      <td>0</td>\n",
       "      <td>0</td>\n",
       "      <td>0</td>\n",
       "      <td>0</td>\n",
       "      <td>0</td>\n",
       "      <td>0</td>\n",
       "      <td>0</td>\n",
       "      <td>0</td>\n",
       "    </tr>\n",
       "    <tr>\n",
       "      <th>72539</th>\n",
       "      <td>72540</td>\n",
       "      <td>1</td>\n",
       "      <td>t</td>\n",
       "      <td>t</td>\n",
       "      <td>f</td>\n",
       "      <td>5</td>\n",
       "      <td>Los Angeles, California, United States</td>\n",
       "      <td>Ryan</td>\n",
       "      <td>Downtown</td>\n",
       "      <td>81%</td>\n",
       "      <td>...</td>\n",
       "      <td>0</td>\n",
       "      <td>0</td>\n",
       "      <td>0</td>\n",
       "      <td>0</td>\n",
       "      <td>0</td>\n",
       "      <td>0</td>\n",
       "      <td>0</td>\n",
       "      <td>0</td>\n",
       "      <td>0</td>\n",
       "      <td>0</td>\n",
       "    </tr>\n",
       "  </tbody>\n",
       "</table>\n",
       "<p>2 rows × 281 columns</p>\n",
       "</div>"
      ],
      "text/plain": [
       "       Unnamed: 0  access accommodates amenities availability_30  \\\n",
       "65791       65792       1            t         f               f   \n",
       "72539       72540       1            t         t               f   \n",
       "\n",
       "       availability_365                           availability_60  \\\n",
       "65791                 1  San Francisco, California, United States   \n",
       "72539                 5    Los Angeles, California, United States   \n",
       "\n",
       "      availability_90  bathrooms bed_type     ...      phone photographer  \\\n",
       "65791           Winni  Oceanview      NaN     ...          0            0   \n",
       "72539            Ryan   Downtown      81%     ...          0            0   \n",
       "\n",
       "      reviews selfie sent_id sesame sesame_offline weibo  work_email  \\\n",
       "65791       0      0       0      0              0     0           0   \n",
       "72539       0      0       0      0              0     0           0   \n",
       "\n",
       "      zhima_selfie  \n",
       "65791            0  \n",
       "72539            0  \n",
       "\n",
       "[2 rows x 281 columns]"
      ]
     },
     "execution_count": 28,
     "metadata": {},
     "output_type": "execute_result"
    }
   ],
   "source": [
    "# bathrooms: filter out worng rows\n",
    "df[((df.bathrooms=='Del Ray') | (df.bathrooms=='Oceanview') | (df.bathrooms=='Downtown')) & (df.label=='train')]"
   ]
  },
  {
   "cell_type": "code",
   "execution_count": 29,
   "metadata": {},
   "outputs": [
    {
     "data": {
      "text/plain": [
       "Int64Index([16245, 30583, 47614, 56280, 72539, 75207, 92584, 96067], dtype='int64')"
      ]
     },
     "execution_count": 29,
     "metadata": {},
     "output_type": "execute_result"
    }
   ],
   "source": [
    "# filter out wrong rows in training set based on bed_type\n",
    "wrong_index_train1=df[((df.bed_type=='81%') | (df.bed_type=='100%')) & (df.label=='train')].index\n",
    "\n",
    "wrong_index_train1"
   ]
  },
  {
   "cell_type": "code",
   "execution_count": 30,
   "metadata": {
    "scrolled": true
   },
   "outputs": [],
   "source": [
    "# Delete wrong rows \n",
    "df=df.drop(wrong_index_train1)"
   ]
  },
  {
   "cell_type": "code",
   "execution_count": 31,
   "metadata": {},
   "outputs": [
    {
     "data": {
      "text/plain": [
       "Int64Index([100774, 110273], dtype='int64')"
      ]
     },
     "execution_count": 31,
     "metadata": {},
     "output_type": "execute_result"
    }
   ],
   "source": [
    "# filter out wrong rows in testing set based on bed_type\n",
    "wrong_index_test=df[((df.bed_type=='81%') | (df.bed_type=='100%')) & (df.label=='test')].index\n",
    "\n",
    "wrong_index_test"
   ]
  },
  {
   "cell_type": "code",
   "execution_count": 32,
   "metadata": {},
   "outputs": [],
   "source": [
    "# Delete wrong rows in test sets\n",
    "df=df.drop(wrong_index_test)"
   ]
  },
  {
   "cell_type": "code",
   "execution_count": 33,
   "metadata": {},
   "outputs": [
    {
     "data": {
      "text/plain": [
       "Int64Index([65791], dtype='int64')"
      ]
     },
     "execution_count": 33,
     "metadata": {},
     "output_type": "execute_result"
    }
   ],
   "source": [
    "# filter out wrong rows in training set based on bathrooms\n",
    "wrong_index_train2=df[((df.bathrooms=='Del Ray') | (df.bathrooms=='Oceanview') | (df.bathrooms=='Downtown')) & (df.label=='train')].index\n",
    "\n",
    "wrong_index_train2"
   ]
  },
  {
   "cell_type": "code",
   "execution_count": 34,
   "metadata": {
    "scrolled": true
   },
   "outputs": [],
   "source": [
    "# Delete wrong rows \n",
    "df=df.drop(wrong_index_train2)"
   ]
  },
  {
   "cell_type": "markdown",
   "metadata": {},
   "source": [
    "## bed_type"
   ]
  },
  {
   "cell_type": "code",
   "execution_count": 35,
   "metadata": {},
   "outputs": [],
   "source": [
    "# bed_type: fill NA with most common class\n",
    "df[\"bed_type\"] = df[\"bed_type\"].fillna('Real Bed')"
   ]
  },
  {
   "cell_type": "markdown",
   "metadata": {},
   "source": [
    "## bathroom"
   ]
  },
  {
   "cell_type": "code",
   "execution_count": 36,
   "metadata": {
    "scrolled": true
   },
   "outputs": [],
   "source": [
    "#bedrooms and bathrooms: change all the datatypes in bathrooms&bedrooms to float and then fill in the NA with mode.\n",
    "df.bathrooms=pd.to_numeric(df['bathrooms'],errors='coerce')\n",
    "df.bedrooms=pd.to_numeric(df['bedrooms'],errors='coerce')\n",
    "\n",
    "df['bedrooms'] = df['bedrooms'].fillna(df['bedrooms'].mode()[0])\n",
    "\n",
    "df['bathrooms'] = df.groupby('bedrooms')['bathrooms'].transform(lambda x: x.fillna(x.mode()[0]))"
   ]
  },
  {
   "cell_type": "markdown",
   "metadata": {},
   "source": [
    "## availability_30,availability_60,availability_90,availability_365\n",
    "transform to numeric"
   ]
  },
  {
   "cell_type": "code",
   "execution_count": 37,
   "metadata": {},
   "outputs": [],
   "source": [
    "# convert availability_30 60 90 365 to numeric\n",
    "df.availability_30 = pd.to_numeric(df.availability_30)\n",
    "df.availability_60 = pd.to_numeric(df.availability_60)\n",
    "df.availability_90 = pd.to_numeric(df.availability_90)\n",
    "df.availability_365 = pd.to_numeric(df.availability_365)"
   ]
  },
  {
   "cell_type": "markdown",
   "metadata": {},
   "source": [
    "## security_deposit"
   ]
  },
  {
   "cell_type": "code",
   "execution_count": 38,
   "metadata": {},
   "outputs": [],
   "source": [
    "# security deposit column: fill NA with 0,convert to numeric\n",
    "df.security_deposit=df.security_deposit.str.lstrip('$')\n",
    "df.security_deposit=df.security_deposit.str.replace(',','')\n",
    "df[\"security_deposit\"] = df[\"security_deposit\"].fillna(0)\n",
    "df[\"security_deposit\"]=pd.to_numeric(df[\"security_deposit\"])"
   ]
  },
  {
   "cell_type": "markdown",
   "metadata": {},
   "source": [
    "## is_business_travel_ready"
   ]
  },
  {
   "cell_type": "code",
   "execution_count": 39,
   "metadata": {},
   "outputs": [
    {
     "data": {
      "text/plain": [
       "f    53691\n",
       "t     8392\n",
       "Name: is_business_travel_ready, dtype: int64"
      ]
     },
     "execution_count": 39,
     "metadata": {},
     "output_type": "execute_result"
    }
   ],
   "source": [
    "df.is_business_travel_ready.value_counts()"
   ]
  },
  {
   "cell_type": "code",
   "execution_count": 40,
   "metadata": {
    "scrolled": true
   },
   "outputs": [
    {
     "data": {
      "text/plain": [
       "0          t\n",
       "1    Unknown\n",
       "2    Unknown\n",
       "3    Unknown\n",
       "4          f\n",
       "Name: is_business_travel_ready, dtype: object"
      ]
     },
     "execution_count": 40,
     "metadata": {},
     "output_type": "execute_result"
    }
   ],
   "source": [
    "#is_business_travel column: fill NA with unknown\n",
    "df.is_business_travel_ready=df.is_business_travel_ready.fillna('Unknown')\n",
    "df.is_business_travel_ready.head()"
   ]
  },
  {
   "cell_type": "markdown",
   "metadata": {},
   "source": [
    "## space"
   ]
  },
  {
   "cell_type": "code",
   "execution_count": 41,
   "metadata": {
    "scrolled": true
   },
   "outputs": [
    {
     "name": "stderr",
     "output_type": "stream",
     "text": [
      "/Users/katie/anaconda3/lib/python3.6/site-packages/ipykernel_launcher.py:3: SettingWithCopyWarning: \n",
      "A value is trying to be set on a copy of a slice from a DataFrame\n",
      "\n",
      "See the caveats in the documentation: http://pandas.pydata.org/pandas-docs/stable/indexing.html#indexing-view-versus-copy\n",
      "  This is separate from the ipykernel package so we can avoid doing imports until\n"
     ]
    }
   ],
   "source": [
    "# space column: convert to 0-1 variable,1: has space description\n",
    "df.space=df.space.fillna(0)\n",
    "df.space[df.space!=0]=1"
   ]
  },
  {
   "cell_type": "markdown",
   "metadata": {},
   "source": [
    "## cleaning_fee"
   ]
  },
  {
   "cell_type": "code",
   "execution_count": 42,
   "metadata": {
    "scrolled": true
   },
   "outputs": [
    {
     "data": {
      "text/plain": [
       "0    250.0\n",
       "1      0.0\n",
       "2     50.0\n",
       "3     45.0\n",
       "4     75.0\n",
       "Name: cleaning_fee, dtype: float64"
      ]
     },
     "execution_count": 42,
     "metadata": {},
     "output_type": "execute_result"
    }
   ],
   "source": [
    "# security cleaning_fee column: fill NA with 0 \n",
    "df.cleaning_fee=df.cleaning_fee.str.lstrip('$')\n",
    "df.cleaning_fee=df.cleaning_fee.str.replace(',','')\n",
    "df[\"cleaning_fee\"] = df[\"cleaning_fee\"].fillna(0)\n",
    "df[\"cleaning_fee\"]=pd.to_numeric(df[\"cleaning_fee\"])\n",
    "df[\"cleaning_fee\"].head()"
   ]
  },
  {
   "cell_type": "markdown",
   "metadata": {},
   "source": [
    "## host_response"
   ]
  },
  {
   "cell_type": "code",
   "execution_count": 43,
   "metadata": {},
   "outputs": [
    {
     "data": {
      "text/plain": [
       "0    100.00000\n",
       "1     95.70455\n",
       "2    100.00000\n",
       "3    100.00000\n",
       "4    100.00000\n",
       "Name: host_response_rate, dtype: float64"
      ]
     },
     "execution_count": 43,
     "metadata": {},
     "output_type": "execute_result"
    }
   ],
   "source": [
    "# host_response: fill NA with column mean\n",
    "df.host_response_rate=df.host_response_rate.str.rstrip('%')\n",
    "df.host_response_rate=pd.to_numeric(df.host_response_rate)\n",
    "df.host_response_rate=df.host_response_rate.fillna(df['host_response_rate'].mean())\n",
    "df.host_response_rate.head()"
   ]
  },
  {
   "cell_type": "markdown",
   "metadata": {},
   "source": [
    "## host_response_time"
   ]
  },
  {
   "cell_type": "code",
   "execution_count": 44,
   "metadata": {},
   "outputs": [
    {
     "data": {
      "text/plain": [
       "within an hour        61498\n",
       "within a few hours    19402\n",
       "within a day          11948\n",
       "a few days or more     1574\n",
       "Name: host_response_time, dtype: int64"
      ]
     },
     "execution_count": 44,
     "metadata": {},
     "output_type": "execute_result"
    }
   ],
   "source": [
    "df['host_response_time'].value_counts()"
   ]
  },
  {
   "cell_type": "code",
   "execution_count": 45,
   "metadata": {
    "scrolled": false
   },
   "outputs": [
    {
     "name": "stderr",
     "output_type": "stream",
     "text": [
      "/Users/katie/anaconda3/lib/python3.6/site-packages/ipykernel_launcher.py:3: SettingWithCopyWarning: \n",
      "A value is trying to be set on a copy of a slice from a DataFrame\n",
      "\n",
      "See the caveats in the documentation: http://pandas.pydata.org/pandas-docs/stable/indexing.html#indexing-view-versus-copy\n",
      "  This is separate from the ipykernel package so we can avoid doing imports until\n"
     ]
    }
   ],
   "source": [
    "# host_response_time: fill NA and 'f'(wrong data) with most common class('within an hour)\n",
    "df['host_response_time']=df['host_response_time'].fillna('within an hour')\n",
    "df['host_response_time'][df['host_response_time']=='f']='within an hour'"
   ]
  },
  {
   "cell_type": "markdown",
   "metadata": {},
   "source": [
    "## host_identity_verified"
   ]
  },
  {
   "cell_type": "code",
   "execution_count": 46,
   "metadata": {},
   "outputs": [],
   "source": [
    "#host_identity_verified column: fill NA with unknown\n",
    "df.host_identity_verified=df.host_identity_verified.fillna('Unknown')"
   ]
  },
  {
   "cell_type": "markdown",
   "metadata": {},
   "source": [
    "## host_listing_count"
   ]
  },
  {
   "cell_type": "code",
   "execution_count": 47,
   "metadata": {},
   "outputs": [
    {
     "data": {
      "text/plain": [
       "0     1.0\n",
       "1     1.0\n",
       "2    14.0\n",
       "3     1.0\n",
       "4     1.0\n",
       "Name: host_listings_count, dtype: float64"
      ]
     },
     "execution_count": 47,
     "metadata": {},
     "output_type": "execute_result"
    }
   ],
   "source": [
    "# hostlisting_count: convert to numeric, fill NA with most common number\n",
    "df.host_listings_count\n",
    "df.host_listings_count=pd.to_numeric(df.host_listings_count)\n",
    "df.host_listings_count=df.host_listings_count.fillna(df['host_listings_count'].mode()[0])\n",
    "df.host_listings_count.head()"
   ]
  },
  {
   "cell_type": "markdown",
   "metadata": {},
   "source": [
    "## host_is_superhost"
   ]
  },
  {
   "cell_type": "code",
   "execution_count": 48,
   "metadata": {},
   "outputs": [],
   "source": [
    "# host_is_superhost column: fill NA with unknown\n",
    "df.host_is_superhost=df.host_is_superhost.fillna('Unknown')"
   ]
  },
  {
   "cell_type": "markdown",
   "metadata": {},
   "source": [
    "## neighborhood_overview"
   ]
  },
  {
   "cell_type": "code",
   "execution_count": 49,
   "metadata": {},
   "outputs": [
    {
     "name": "stderr",
     "output_type": "stream",
     "text": [
      "/Users/katie/anaconda3/lib/python3.6/site-packages/ipykernel_launcher.py:3: SettingWithCopyWarning: \n",
      "A value is trying to be set on a copy of a slice from a DataFrame\n",
      "\n",
      "See the caveats in the documentation: http://pandas.pydata.org/pandas-docs/stable/indexing.html#indexing-view-versus-copy\n",
      "  This is separate from the ipykernel package so we can avoid doing imports until\n"
     ]
    }
   ],
   "source": [
    "# neiborhood_overview column: convert to 0-1 variable,1: has overview\n",
    "df['neighborhood_overview']=df.neighborhood_overview.fillna(0)\n",
    "df['neighborhood_overview'][df.neighborhood_overview!=0]=1"
   ]
  },
  {
   "cell_type": "markdown",
   "metadata": {},
   "source": [
    "## maximum_nights, minimum_nights"
   ]
  },
  {
   "cell_type": "code",
   "execution_count": 50,
   "metadata": {},
   "outputs": [],
   "source": [
    "# maximum nights and minimum nights: fill NA with most common number, convert to integer\n",
    "df['maximum_nights'] = df['maximum_nights'].fillna(df['maximum_nights'].mode()[0]).astype(int)\n",
    "df['minimum_nights'] = df['minimum_nights'].fillna(df['minimum_nights'].mode()[0]).astype(int)"
   ]
  },
  {
   "cell_type": "markdown",
   "metadata": {},
   "source": [
    "## host_has_profile_pic"
   ]
  },
  {
   "cell_type": "code",
   "execution_count": 51,
   "metadata": {},
   "outputs": [
    {
     "data": {
      "text/plain": [
       "0    t\n",
       "1    t\n",
       "2    t\n",
       "3    t\n",
       "4    t\n",
       "Name: host_has_profile_pic, dtype: object"
      ]
     },
     "execution_count": 51,
     "metadata": {},
     "output_type": "execute_result"
    }
   ],
   "source": [
    "# host_has_profile_pic column: fill NA with unknown\n",
    "df.host_has_profile_pic=df.host_has_profile_pic.fillna('Unknown')\n",
    "df.host_has_profile_pic.head()"
   ]
  },
  {
   "cell_type": "markdown",
   "metadata": {},
   "source": [
    "## host_total_listings_count"
   ]
  },
  {
   "cell_type": "code",
   "execution_count": 52,
   "metadata": {},
   "outputs": [
    {
     "data": {
      "text/plain": [
       "0     1.0\n",
       "1     1.0\n",
       "2    14.0\n",
       "3     1.0\n",
       "4     1.0\n",
       "Name: host_total_listings_count, dtype: float64"
      ]
     },
     "execution_count": 52,
     "metadata": {},
     "output_type": "execute_result"
    }
   ],
   "source": [
    "# hostlisting_count: convert to numeric, fill NA with most common number\n",
    "df.host_total_listings_count\n",
    "df.host_total_listings_count=pd.to_numeric(df.host_listings_count)\n",
    "df.host_total_listings_count=df.host_total_listings_count.fillna(df['host_total_listings_count'].mode()[0])\n",
    "df.host_total_listings_count.head()"
   ]
  },
  {
   "cell_type": "markdown",
   "metadata": {},
   "source": [
    "# first_review"
   ]
  },
  {
   "cell_type": "code",
   "execution_count": 53,
   "metadata": {},
   "outputs": [
    {
     "data": {
      "text/plain": [
       "numpy.float64"
      ]
     },
     "execution_count": 53,
     "metadata": {},
     "output_type": "execute_result"
    }
   ],
   "source": [
    "df.first_review.head()\n",
    "\n",
    "df.first_review=((pd.to_datetime(df.first_review))-pd.to_datetime(df.host_since)).astype('timedelta64[D]')\n",
    "df.first_review=df.first_review.fillna(0)\n",
    "\n",
    "type(df.first_review[0])"
   ]
  },
  {
   "cell_type": "markdown",
   "metadata": {},
   "source": [
    "## host_since"
   ]
  },
  {
   "cell_type": "code",
   "execution_count": 54,
   "metadata": {},
   "outputs": [
    {
     "data": {
      "text/plain": [
       "0     910.0\n",
       "1     968.0\n",
       "2    1685.0\n",
       "3    1643.0\n",
       "4     990.0\n",
       "Name: host_since, dtype: float64"
      ]
     },
     "execution_count": 54,
     "metadata": {},
     "output_type": "execute_result"
    }
   ],
   "source": [
    "df.host_since =(max(pd.to_datetime(df.host_since))-pd.to_datetime(df.host_since)).astype('timedelta64[D]')\n",
    "df.host_since.head()\n",
    "# host_response: fill NA with column median\n",
    "df.host_since=df.host_since.fillna(df['host_since'].median())\n",
    "df.host_since.head()"
   ]
  },
  {
   "cell_type": "markdown",
   "metadata": {},
   "source": [
    "## beds"
   ]
  },
  {
   "cell_type": "code",
   "execution_count": 55,
   "metadata": {},
   "outputs": [
    {
     "data": {
      "text/plain": [
       "0    6.0\n",
       "1    1.0\n",
       "2    6.0\n",
       "3    2.0\n",
       "4    2.0\n",
       "Name: beds, dtype: float64"
      ]
     },
     "execution_count": 55,
     "metadata": {},
     "output_type": "execute_result"
    }
   ],
   "source": [
    "# beds: convert to numeric, fill NA with most common class\n",
    "df.beds=pd.to_numeric(df.beds)\n",
    "df['beds'] = df['beds'].fillna(df['beds'].mode()[0])\n",
    "df.beds.head()"
   ]
  },
  {
   "cell_type": "markdown",
   "metadata": {},
   "source": [
    "## property_type"
   ]
  },
  {
   "cell_type": "code",
   "execution_count": 56,
   "metadata": {},
   "outputs": [],
   "source": [
    "# property_type column: fill NA with unknown\n",
    "df.property_type=df.property_type.fillna('Unknown')"
   ]
  },
  {
   "cell_type": "markdown",
   "metadata": {},
   "source": [
    "## price"
   ]
  },
  {
   "cell_type": "code",
   "execution_count": 57,
   "metadata": {},
   "outputs": [],
   "source": [
    "# price column: fill NA with 0,convert to numeric\n",
    "df.price=df.price.str.lstrip('$')\n",
    "df.price=df.price.str.replace(',','')\n",
    "df[\"price\"]=pd.to_numeric(df[\"price\"])\n",
    "df[\"price\"] = df[\"price\"].fillna(df.price.mean())"
   ]
  },
  {
   "cell_type": "code",
   "execution_count": 58,
   "metadata": {},
   "outputs": [
    {
     "data": {
      "text/plain": [
       "0"
      ]
     },
     "execution_count": 58,
     "metadata": {},
     "output_type": "execute_result"
    }
   ],
   "source": [
    "df.price.isnull().sum()"
   ]
  },
  {
   "cell_type": "markdown",
   "metadata": {},
   "source": [
    "## requires_license"
   ]
  },
  {
   "cell_type": "code",
   "execution_count": 59,
   "metadata": {},
   "outputs": [],
   "source": [
    "# requires_license column: fill NA with unknown\n",
    "df.requires_license=df.requires_license.fillna('Unknown')"
   ]
  },
  {
   "cell_type": "markdown",
   "metadata": {},
   "source": [
    "## require_guest_profile_picture"
   ]
  },
  {
   "cell_type": "code",
   "execution_count": 60,
   "metadata": {},
   "outputs": [],
   "source": [
    "# require_guest_profile_picture column: fill NA with unknown\n",
    "df.require_guest_profile_picture=df.require_guest_profile_picture.fillna('Unknown')"
   ]
  },
  {
   "cell_type": "markdown",
   "metadata": {},
   "source": [
    "## room_type"
   ]
  },
  {
   "cell_type": "code",
   "execution_count": 61,
   "metadata": {},
   "outputs": [],
   "source": [
    "# room_type column: fill NA with unknown\n",
    "df.room_type=df.room_type.fillna('Unknown')"
   ]
  },
  {
   "cell_type": "markdown",
   "metadata": {},
   "source": [
    "## instant_bookable"
   ]
  },
  {
   "cell_type": "code",
   "execution_count": 62,
   "metadata": {},
   "outputs": [],
   "source": [
    "# instant_bookable column: fill NA with unknown\n",
    "df.instant_bookable=df.instant_bookable.fillna('Unknown')"
   ]
  },
  {
   "cell_type": "markdown",
   "metadata": {},
   "source": [
    "## require_guest_phone"
   ]
  },
  {
   "cell_type": "code",
   "execution_count": 63,
   "metadata": {},
   "outputs": [],
   "source": [
    "# require_guest_phone_verification column: fill NA with unknown\n",
    "df.require_guest_phone_verification=df.require_guest_phone_verification.fillna('Unknown')"
   ]
  },
  {
   "cell_type": "markdown",
   "metadata": {},
   "source": [
    "## is_location_exact"
   ]
  },
  {
   "cell_type": "code",
   "execution_count": 64,
   "metadata": {},
   "outputs": [],
   "source": [
    "# is_location_exact column: fill NA with unknown\n",
    "df.is_location_exact=df.is_location_exact.fillna('Unknown')"
   ]
  },
  {
   "cell_type": "markdown",
   "metadata": {},
   "source": [
    "## name"
   ]
  },
  {
   "cell_type": "code",
   "execution_count": 65,
   "metadata": {
    "scrolled": false
   },
   "outputs": [
    {
     "name": "stderr",
     "output_type": "stream",
     "text": [
      "/Users/katie/anaconda3/lib/python3.6/site-packages/ipykernel_launcher.py:3: SettingWithCopyWarning: \n",
      "A value is trying to be set on a copy of a slice from a DataFrame\n",
      "\n",
      "See the caveats in the documentation: http://pandas.pydata.org/pandas-docs/stable/indexing.html#indexing-view-versus-copy\n",
      "  This is separate from the ipykernel package so we can avoid doing imports until\n"
     ]
    }
   ],
   "source": [
    "# name column: convert to 0-1 variable,1: has interaction \n",
    "df.name=df.name.fillna(0)\n",
    "df.name[df.name!=0]=1"
   ]
  },
  {
   "cell_type": "markdown",
   "metadata": {},
   "source": [
    "## description"
   ]
  },
  {
   "cell_type": "markdown",
   "metadata": {},
   "source": [
    "## logitude"
   ]
  },
  {
   "cell_type": "code",
   "execution_count": 66,
   "metadata": {},
   "outputs": [],
   "source": [
    "# logitude: fill NA with the mean of the same city \n",
    "df[\"longitude\"]=pd.to_numeric(df[\"longitude\"],errors='coerce')\n",
    "df[\"longitude\"] = df.groupby('city_name')['longitude'].transform(\n",
    "    lambda x: x.fillna(x.mean()))"
   ]
  },
  {
   "cell_type": "markdown",
   "metadata": {},
   "source": [
    "## latitude"
   ]
  },
  {
   "cell_type": "code",
   "execution_count": 67,
   "metadata": {},
   "outputs": [],
   "source": [
    "# latitude: fill NA with the mean of the same city \n",
    "df[\"latitude\"]=pd.to_numeric(df[\"latitude\"],errors='coerce')\n",
    "df[\"latitude\"] = df.groupby('city_name')['latitude'].transform(\n",
    "    lambda x: x.fillna(x.mean()))"
   ]
  },
  {
   "cell_type": "markdown",
   "metadata": {},
   "source": [
    "## state"
   ]
  },
  {
   "cell_type": "code",
   "execution_count": 68,
   "metadata": {
    "scrolled": true
   },
   "outputs": [
    {
     "data": {
      "text/plain": [
       "NY                 36932\n",
       "CA                 34554\n",
       "TX                  5941\n",
       "DC                  5563\n",
       "LA                  4694\n",
       "TN                  4557\n",
       "IL                  4468\n",
       "OR                  4187\n",
       "MA                  3944\n",
       "CO                  3392\n",
       "WA                  3171\n",
       "NC                   742\n",
       "MD                    19\n",
       "ca                     5\n",
       "NJ                     2\n",
       "ny                     2\n",
       "Ca                     2\n",
       "Baja California        1\n",
       "il                     1\n",
       "Ny                     1\n",
       "secc Terrazas          1\n",
       "New York               1\n",
       "MP                     1\n",
       "Name: state, dtype: int64"
      ]
     },
     "execution_count": 68,
     "metadata": {},
     "output_type": "execute_result"
    }
   ],
   "source": [
    "df.state.value_counts()"
   ]
  },
  {
   "cell_type": "code",
   "execution_count": 69,
   "metadata": {
    "scrolled": false
   },
   "outputs": [
    {
     "name": "stderr",
     "output_type": "stream",
     "text": [
      "/Users/katie/anaconda3/lib/python3.6/site-packages/pandas/core/indexing.py:194: SettingWithCopyWarning: \n",
      "A value is trying to be set on a copy of a slice from a DataFrame\n",
      "\n",
      "See the caveats in the documentation: http://pandas.pydata.org/pandas-docs/stable/indexing.html#indexing-view-versus-copy\n",
      "  self._setitem_with_indexer(indexer, value)\n"
     ]
    }
   ],
   "source": [
    "#state \n",
    "df['state'].loc[df[df.state=='secc Terrazas'].index]=df['state'].loc[df[df.state=='secc Terrazas'].index].replace('secc Terrazas','VA')\n",
    "df['state'].loc[df[df.state=='MP'].index]=df['state'].loc[df[df.state=='MP'].index].replace('MP','NY')\n",
    "df['state'].loc[df[df.state=='New York'].index]=df['state'].loc[df[df.state=='New York'].index].replace('New York','NY')\n",
    "df['state'].loc[df[df.state=='Baja California'].index]=df['state'].loc[df[df.state=='Baja California'].index].replace('Baja California','CA')\n",
    "df['state'].loc[[13583,  24316,  24639,  29878, 44689,  51370,  63485, 76217,  85310,92027,104585]]='CA'\n",
    "df['state'].loc[[41930,101538]]='NY'\n",
    "df['state'].loc[[90608,93914]]='TX'\n",
    "df['state'].loc[[112095]]='CO'\n",
    "df['state'] =df['state'].str.upper()"
   ]
  },
  {
   "cell_type": "markdown",
   "metadata": {},
   "source": [
    "## host_neighborhood, neiborhood, market"
   ]
  },
  {
   "cell_type": "code",
   "execution_count": 70,
   "metadata": {},
   "outputs": [],
   "source": [
    "# host_neighborhood, neiborhood: remove - too many levels\n",
    "# market: duplicate of city_name\n",
    "df=df.drop(['square_feet','host_acceptance_rate','monthly_price','weekly_price','jurisdiction_names','host_neighbourhood','neighbourhood','zipcode','market','host_location','host_name','host_total_listings_count','city','smart_location','experiences_offered','street'],axis=1)"
   ]
  },
  {
   "cell_type": "markdown",
   "metadata": {},
   "source": [
    "## extra_people"
   ]
  },
  {
   "cell_type": "code",
   "execution_count": 71,
   "metadata": {
    "scrolled": false
   },
   "outputs": [
    {
     "data": {
      "text/plain": [
       "0     $0.00\n",
       "1     $0.00\n",
       "2     $0.00\n",
       "3    $20.00\n",
       "4    $50.00\n",
       "Name: extra_people, dtype: object"
      ]
     },
     "execution_count": 71,
     "metadata": {},
     "output_type": "execute_result"
    }
   ],
   "source": [
    "df.extra_people.head()"
   ]
  },
  {
   "cell_type": "code",
   "execution_count": 72,
   "metadata": {},
   "outputs": [
    {
     "data": {
      "text/plain": [
       "0     0.0\n",
       "1     0.0\n",
       "2     0.0\n",
       "3    20.0\n",
       "4    50.0\n",
       "Name: extra_people, dtype: float64"
      ]
     },
     "execution_count": 72,
     "metadata": {},
     "output_type": "execute_result"
    }
   ],
   "source": [
    "# extra_people: remove $,\n",
    "df.extra_people=df.extra_people.str.lstrip('$')\n",
    "df.extra_people=df.extra_people.str.replace(',','')\n",
    "df.extra_people=pd.to_numeric(df.extra_people)\n",
    "\n",
    "df.extra_people.head()"
   ]
  },
  {
   "cell_type": "code",
   "execution_count": 73,
   "metadata": {
    "scrolled": true
   },
   "outputs": [
    {
     "data": {
      "text/plain": [
       "0     0.0\n",
       "1     0.0\n",
       "2     0.0\n",
       "3    20.0\n",
       "4    50.0\n",
       "Name: extra_people, dtype: float64"
      ]
     },
     "execution_count": 73,
     "metadata": {},
     "output_type": "execute_result"
    }
   ],
   "source": [
    "df.extra_people.head()"
   ]
  },
  {
   "cell_type": "markdown",
   "metadata": {},
   "source": [
    "# license"
   ]
  },
  {
   "cell_type": "code",
   "execution_count": 74,
   "metadata": {},
   "outputs": [
    {
     "data": {
      "text/plain": [
       "No Registration         96240\n",
       "Registered               9942\n",
       "Registration Pending     6015\n",
       "Name: license, dtype: int64"
      ]
     },
     "execution_count": 74,
     "metadata": {},
     "output_type": "execute_result"
    }
   ],
   "source": [
    "#license\n",
    "df.license=df.license.fillna('no registration')\n",
    "df.license = df[\"license\"].astype(str).map(lambda license: license.lower())\n",
    "df.license = df.license.apply(lambda x: 'Registration Pending' if 'pending' in x else ('No Registration' if 'no registration' in x else 'Registered'))\n",
    "df.license.value_counts()"
   ]
  },
  {
   "cell_type": "markdown",
   "metadata": {},
   "source": [
    "## cancellation_policy, guests_included, accommodates"
   ]
  },
  {
   "cell_type": "code",
   "execution_count": 75,
   "metadata": {},
   "outputs": [
    {
     "data": {
      "text/plain": [
       "1.0     69350\n",
       "2.0     24557\n",
       "4.0      8328\n",
       "3.0      3243\n",
       "6.0      2895\n",
       "5.0      1365\n",
       "8.0      1026\n",
       "0.0       404\n",
       "10.0      398\n",
       "7.0       309\n",
       "12.0      115\n",
       "9.0        73\n",
       "16.0       38\n",
       "14.0       30\n",
       "15.0       26\n",
       "11.0       23\n",
       "13.0       15\n",
       "20.0        1\n",
       "18.0        1\n",
       "Name: guests_included, dtype: int64"
      ]
     },
     "execution_count": 75,
     "metadata": {},
     "output_type": "execute_result"
    }
   ],
   "source": [
    "# accommodates column: inspect, nothing wrong\n",
    "df.accommodates.value_counts()\n",
    "\n",
    "# cancellation_policy column: inspect, nothing wrong\n",
    "df.cancellation_policy.value_counts()\n",
    "\n",
    "# guests_included column: inspect, nothing wrong\n",
    "df.guests_included.value_counts()"
   ]
  },
  {
   "cell_type": "code",
   "execution_count": 76,
   "metadata": {},
   "outputs": [],
   "source": [
    "df = df.drop(['amenities','host_verifications'],axis=1)"
   ]
  },
  {
   "cell_type": "code",
   "execution_count": 77,
   "metadata": {
    "scrolled": false
   },
   "outputs": [],
   "source": [
    "df = df.drop(['Unnamed: 0'],axis=1)"
   ]
  },
  {
   "cell_type": "code",
   "execution_count": 78,
   "metadata": {},
   "outputs": [
    {
     "data": {
      "text/plain": [
       "(112197, 262)"
      ]
     },
     "execution_count": 78,
     "metadata": {},
     "output_type": "execute_result"
    }
   ],
   "source": [
    "df.shape"
   ]
  },
  {
   "cell_type": "code",
   "execution_count": 79,
   "metadata": {
    "scrolled": true
   },
   "outputs": [
    {
     "data": {
      "text/plain": [
       "zhima_selfie                     0\n",
       "elevator in building             0\n",
       "dvd player                       0\n",
       "dryer                            0\n",
       "double oven                      0\n",
       "doorman entry                    0\n",
       "doorman                          0\n",
       "dog(s)                           0\n",
       "dishwasher                       0\n",
       "dishes and silverware            0\n",
       "disabled parking spot            0\n",
       "day bed                          0\n",
       "crib                             0\n",
       "cooking basics                   0\n",
       "convection oven                  0\n",
       "coffee maker                     0\n",
       "cleaning before checkout         0\n",
       "children’s dinnerware            0\n",
       "children’s books and toys        0\n",
       "changing table                   0\n",
       "central air conditioning         0\n",
       "ceiling fan                      0\n",
       "cat(s)                           0\n",
       "carbon monoxide detector         0\n",
       "cable tv                         0\n",
       "buzzer/wireless intercom         0\n",
       "breakfast table                  0\n",
       "breakfast                        0\n",
       "bidet                            0\n",
       "bed linens                       0\n",
       "                                ..\n",
       "pool                             0\n",
       "shampoo                          0\n",
       "self check-in                    0\n",
       "safety card                      0\n",
       "room-darkening shades            0\n",
       "roll-in shower with chair        0\n",
       "refrigerator                     0\n",
       "rain shower                      0\n",
       "projector and screen             0\n",
       "private living room              0\n",
       "private hot tub                  0\n",
       "private entrance                 0\n",
       "private bathroom                 0\n",
       "printer                          0\n",
       "pocket wifi                      0\n",
       "other                            0\n",
       "pillow-top mattress              0\n",
       "pets live on this property       0\n",
       "pets allowed                     0\n",
       "patio or balcony                 0\n",
       "path to entrance lit at night    0\n",
       "paid parking on premises         0\n",
       "paid parking off premises        0\n",
       "pack ’n play/travel crib         0\n",
       "oven                             0\n",
       "outlet covers                    0\n",
       "outdoor seating                  0\n",
       "outdoor parking                  0\n",
       "other pet(s)                     0\n",
       "access                           0\n",
       "Length: 262, dtype: int64"
      ]
     },
     "execution_count": 79,
     "metadata": {},
     "output_type": "execute_result"
    }
   ],
   "source": [
    "df.isnull().sum().sort_values(ascending=False)"
   ]
  },
  {
   "cell_type": "code",
   "execution_count": 80,
   "metadata": {},
   "outputs": [
    {
     "data": {
      "text/plain": [
       "Int64Index([16245, 30583, 47614, 56280, 72539, 75207, 92584, 96067], dtype='int64')"
      ]
     },
     "execution_count": 80,
     "metadata": {},
     "output_type": "execute_result"
    }
   ],
   "source": [
    "wrong_index_train1"
   ]
  },
  {
   "cell_type": "code",
   "execution_count": 81,
   "metadata": {},
   "outputs": [
    {
     "data": {
      "text/plain": [
       "Int64Index([65791], dtype='int64')"
      ]
     },
     "execution_count": 81,
     "metadata": {},
     "output_type": "execute_result"
    }
   ],
   "source": [
    "wrong_index_train2"
   ]
  },
  {
   "cell_type": "code",
   "execution_count": 82,
   "metadata": {},
   "outputs": [
    {
     "data": {
      "text/plain": [
       "Int64Index([100774, 110273], dtype='int64')"
      ]
     },
     "execution_count": 82,
     "metadata": {},
     "output_type": "execute_result"
    }
   ],
   "source": [
    "wrong_index_test"
   ]
  },
  {
   "cell_type": "code",
   "execution_count": 83,
   "metadata": {
    "scrolled": false
   },
   "outputs": [
    {
     "data": {
      "text/plain": [
       "Int64Index([13583, 16245, 24316, 29878, 30583, 44689, 47614, 51370, 56280,\n",
       "            63485, 65791, 72539, 75207, 76217, 85310, 90608, 92027, 92584,\n",
       "            96067],\n",
       "           dtype='int64')"
      ]
     },
     "execution_count": 83,
     "metadata": {},
     "output_type": "execute_result"
    }
   ],
   "source": [
    "# in training_y, there're observations that're null\n",
    "null_training_y=training_y[training_y.high_booking_rate.isnull()].index\n",
    "\n",
    "null_training_y"
   ]
  },
  {
   "cell_type": "code",
   "execution_count": 84,
   "metadata": {},
   "outputs": [],
   "source": [
    "df=df.drop(null_training_y,errors='ignore')"
   ]
  },
  {
   "cell_type": "code",
   "execution_count": 85,
   "metadata": {},
   "outputs": [
    {
     "data": {
      "text/plain": [
       "['access',\n",
       " 'accommodates',\n",
       " 'availability_30',\n",
       " 'availability_365',\n",
       " 'availability_60',\n",
       " 'availability_90',\n",
       " 'bathrooms',\n",
       " 'bed_type',\n",
       " 'bedrooms',\n",
       " 'beds',\n",
       " 'cancellation_policy',\n",
       " 'city_name',\n",
       " 'cleaning_fee',\n",
       " 'country',\n",
       " 'country_code',\n",
       " 'description',\n",
       " 'extra_people',\n",
       " 'first_review',\n",
       " 'guests_included',\n",
       " 'host_about',\n",
       " 'host_has_profile_pic',\n",
       " 'host_identity_verified',\n",
       " 'host_is_superhost',\n",
       " 'host_listings_count',\n",
       " 'host_response_rate',\n",
       " 'host_response_time',\n",
       " 'host_since',\n",
       " 'house_rules',\n",
       " 'instant_bookable',\n",
       " 'interaction',\n",
       " 'is_business_travel_ready',\n",
       " 'is_location_exact',\n",
       " 'latitude',\n",
       " 'license',\n",
       " 'longitude',\n",
       " 'maximum_nights',\n",
       " 'minimum_nights',\n",
       " 'name',\n",
       " 'neighborhood_overview',\n",
       " 'notes',\n",
       " 'price',\n",
       " 'property_type',\n",
       " 'require_guest_phone_verification',\n",
       " 'require_guest_profile_picture',\n",
       " 'requires_license',\n",
       " 'room_type',\n",
       " 'security_deposit',\n",
       " 'space',\n",
       " 'state',\n",
       " 'summary',\n",
       " 'transit',\n",
       " 'label',\n",
       " '24_hour_check_in',\n",
       " 'accessible_height_bed',\n",
       " 'accessible_height_toilet',\n",
       " 'air_conditioning',\n",
       " 'air_purifier',\n",
       " 'amazon_echo',\n",
       " 'baby_bath',\n",
       " 'baby_monitor',\n",
       " 'babysitter_recommendations',\n",
       " 'balcony',\n",
       " 'bathtub',\n",
       " 'bathtub_with_shower_chair',\n",
       " 'bbq_grill',\n",
       " 'beach_essentials',\n",
       " 'beach_view',\n",
       " 'beachfront',\n",
       " 'bed_linens',\n",
       " 'bidet',\n",
       " 'breakfast',\n",
       " 'breakfast_table',\n",
       " 'buzzer_wireless_intercom',\n",
       " 'cable_tv',\n",
       " 'carbon_monoxide_detector',\n",
       " 'cats',\n",
       " 'ceiling_fan',\n",
       " 'central_air_conditioning',\n",
       " 'changing_table',\n",
       " 'childrens_books_and_toys',\n",
       " 'childrens_dinnerware',\n",
       " 'cleaning_before_checkout',\n",
       " 'coffee_maker',\n",
       " 'convection_oven',\n",
       " 'cooking_basics',\n",
       " 'crib',\n",
       " 'day_bed',\n",
       " 'disabled_parking_spot',\n",
       " 'dishes_and_silverware',\n",
       " 'dishwasher',\n",
       " 'dogs',\n",
       " 'doorman',\n",
       " 'doorman_entry',\n",
       " 'double_oven',\n",
       " 'dryer',\n",
       " 'dvd_player',\n",
       " 'elevator',\n",
       " 'elevator_in_building',\n",
       " 'en_suite_bathroom',\n",
       " 'espresso_machine',\n",
       " 'essentials',\n",
       " 'ethernet_connection',\n",
       " 'ev_charger',\n",
       " 'exercise_equipment',\n",
       " 'extra_pillows_and_blankets',\n",
       " 'family_kid_friendly',\n",
       " 'fax_machine',\n",
       " 'fire_extinguisher',\n",
       " 'fire_pit',\n",
       " 'fireplace_guards',\n",
       " 'firm_matress',\n",
       " 'firm_mattress',\n",
       " 'first_aid_kit',\n",
       " 'fixed_grab_bars_for_shower',\n",
       " 'fixed_grab_bars_for_shower_toilet',\n",
       " 'flat',\n",
       " 'flat_path_to_front_door',\n",
       " 'flat_smooth_pathway_to_front_door',\n",
       " 'formal_dining_area',\n",
       " 'free_parking_on_premises',\n",
       " 'free_parking_on_street',\n",
       " 'free_street_parking',\n",
       " 'front_desk_doorperson',\n",
       " 'full_kitchen',\n",
       " 'game_console',\n",
       " 'garden_or_backyard',\n",
       " 'gas_oven',\n",
       " 'grab_rails_for_shower_and_toilet',\n",
       " 'ground_floor_access',\n",
       " 'gym',\n",
       " 'hair_dryer',\n",
       " 'hammock',\n",
       " 'handheld_shower_head',\n",
       " 'hangers',\n",
       " 'hbo_go',\n",
       " 'heat_lamps',\n",
       " 'heated_floors',\n",
       " 'heated_towel_rack',\n",
       " 'heating',\n",
       " 'high_chair',\n",
       " 'high_resolution_computer_monitor',\n",
       " 'host_greets_you',\n",
       " 'hot_tub',\n",
       " 'hot_water',\n",
       " 'hot_water_kettle',\n",
       " 'indoor_fireplace',\n",
       " 'internet',\n",
       " 'iron',\n",
       " 'jetted_tub',\n",
       " 'keypad',\n",
       " 'kitchen',\n",
       " 'kitchenette',\n",
       " 'lake_access',\n",
       " 'laptop_friendly_workspace',\n",
       " 'lock_on_bedroom_door',\n",
       " 'lockbox',\n",
       " 'long_term_stays_allowed',\n",
       " 'luggage_dropoff_allowed',\n",
       " 'memory_foam_mattress',\n",
       " 'microwave',\n",
       " 'mini_fridge',\n",
       " 'mountain_view',\n",
       " 'mudroom',\n",
       " 'murphy_bed',\n",
       " 'netflix',\n",
       " 'other',\n",
       " 'other_pets',\n",
       " 'outdoor_parking',\n",
       " 'outdoor_seating',\n",
       " 'outlet_covers',\n",
       " 'oven',\n",
       " 'pack_n_play_travel_crib',\n",
       " 'paid_parking_off_premises',\n",
       " 'paid_parking_on_premises',\n",
       " 'path_to_entrance_lit_at_night',\n",
       " 'patio_or_balcony',\n",
       " 'pets_allowed',\n",
       " 'pets_live_on_this_property',\n",
       " 'pillow_top_mattress',\n",
       " 'pocket_wifi',\n",
       " 'pool',\n",
       " 'printer',\n",
       " 'private_bathroom',\n",
       " 'private_entrance',\n",
       " 'private_hot_tub',\n",
       " 'private_living_room',\n",
       " 'projector_and_screen',\n",
       " 'rain_shower',\n",
       " 'refrigerator',\n",
       " 'roll_in_shower_with_chair',\n",
       " 'room_darkening_shades',\n",
       " 'safety_card',\n",
       " 'self_check_in',\n",
       " 'shampoo',\n",
       " 'shared_gym',\n",
       " 'shared_hot_tub',\n",
       " 'shared_pool',\n",
       " 'single_level_home',\n",
       " 'ski_in_ski_out',\n",
       " 'smart_lock',\n",
       " 'smart_tv',\n",
       " 'smartlock',\n",
       " 'smoke_detector',\n",
       " 'smoking_allowed',\n",
       " 'smooth_pathway_to_front_door',\n",
       " 'soaking_tub',\n",
       " 'sound_system',\n",
       " 'stair_gates',\n",
       " 'stand_alone_steam_shower',\n",
       " 'standing_valet',\n",
       " 'step_free_access',\n",
       " 'stove',\n",
       " 'suitable_for_events',\n",
       " 'sun_loungers',\n",
       " 'table_corner_guards',\n",
       " 'tennis_court',\n",
       " 'terrace',\n",
       " 'toilet',\n",
       " 'touchless_faucets',\n",
       " 'tv',\n",
       " 'walk_in_shower',\n",
       " 'warming_drawer',\n",
       " 'washer',\n",
       " 'washer_dryer',\n",
       " 'waterfront',\n",
       " 'well_lit_path_to_entrance',\n",
       " 'wheelchair_accessible',\n",
       " 'wide_clearance_to_bed',\n",
       " 'wide_clearance_to_shower',\n",
       " 'wide_clearance_to_shower_toilet',\n",
       " 'wide_clearance_to_shower_and_toilet',\n",
       " 'wide_doorway',\n",
       " 'wide_entryway',\n",
       " 'wide_hallway_clearance',\n",
       " 'wifi',\n",
       " 'window_guards',\n",
       " 'wine_cooler',\n",
       " 'wireless_internet',\n",
       " '',\n",
       " '0',\n",
       " 'amex',\n",
       " 'email',\n",
       " 'facebook',\n",
       " 'google',\n",
       " 'government_id',\n",
       " 'identity_manual',\n",
       " 'jumio',\n",
       " 'kba',\n",
       " 'linkedin',\n",
       " 'manual_offline',\n",
       " 'manual_online',\n",
       " 'offline_government_id',\n",
       " 'phone',\n",
       " 'photographer',\n",
       " 'reviews',\n",
       " 'selfie',\n",
       " 'sent_id',\n",
       " 'sesame',\n",
       " 'sesame_offline',\n",
       " 'weibo',\n",
       " 'work_email',\n",
       " 'zhima_selfie']"
      ]
     },
     "execution_count": 85,
     "metadata": {},
     "output_type": "execute_result"
    }
   ],
   "source": [
    "df.columns = df.columns.str.replace(' ', '_') \n",
    "df.columns = df.columns.str.replace(',', '_') \n",
    "df.columns = df.columns.str.replace('/', '_') \n",
    "df.columns = df.columns.str.replace('-', '_') \n",
    "df.columns = df.columns.str.replace('’', '') \n",
    "df.columns = df.columns.str.replace('(', '') \n",
    "df.columns = df.columns.str.replace(')', '') \n",
    "df.columns = df.columns.str.replace('/', '_') \n",
    "df.columns = df.columns.str.replace('_&_', '_') \n",
    "df.columns = df.columns.str.replace('___', '_')\n",
    "col_name = list(df.columns.values)\n",
    "col_name"
   ]
  },
  {
   "cell_type": "markdown",
   "metadata": {},
   "source": [
    "# Write to CSV file--all training x\n"
   ]
  },
  {
   "cell_type": "code",
   "execution_count": 86,
   "metadata": {},
   "outputs": [],
   "source": [
    "df.to_csv('trainx_all_0503.csv',encoding='utf-8')"
   ]
  },
  {
   "cell_type": "code",
   "execution_count": 87,
   "metadata": {},
   "outputs": [],
   "source": [
    "training_y_cleaned=training_y.drop(null_training_y)\n",
    "training_y_cleaned=training_y_cleaned.drop(wrong_index_train1,errors='ignore')\n",
    "training_y_cleaned=training_y_cleaned.drop(wrong_index_train2,errors='ignore')"
   ]
  },
  {
   "cell_type": "markdown",
   "metadata": {},
   "source": [
    "# Write to CSV file--cleaned training y"
   ]
  },
  {
   "cell_type": "code",
   "execution_count": 88,
   "metadata": {},
   "outputs": [],
   "source": [
    "training_y_cleaned.to_csv('trainy_clean_0503.csv',encoding='utf-8')"
   ]
  },
  {
   "cell_type": "code",
   "execution_count": 89,
   "metadata": {},
   "outputs": [
    {
     "data": {
      "text/plain": [
       "99981"
      ]
     },
     "execution_count": 89,
     "metadata": {},
     "output_type": "execute_result"
    }
   ],
   "source": [
    "len(df[df.label=='train'])"
   ]
  },
  {
   "cell_type": "code",
   "execution_count": 90,
   "metadata": {},
   "outputs": [
    {
     "data": {
      "text/plain": [
       "99981"
      ]
     },
     "execution_count": 90,
     "metadata": {},
     "output_type": "execute_result"
    }
   ],
   "source": [
    "len(training_y_cleaned)"
   ]
  },
  {
   "cell_type": "code",
   "execution_count": 91,
   "metadata": {},
   "outputs": [
    {
     "data": {
      "text/plain": [
       "12206"
      ]
     },
     "execution_count": 91,
     "metadata": {},
     "output_type": "execute_result"
    }
   ],
   "source": [
    "len(df[df.label=='test'])"
   ]
  },
  {
   "cell_type": "markdown",
   "metadata": {},
   "source": [
    "# mannually edit csv file\n",
    "1. drop unnammed two columns"
   ]
  }
 ],
 "metadata": {
  "kernelspec": {
   "display_name": "Python 3",
   "language": "python",
   "name": "python3"
  },
  "language_info": {
   "codemirror_mode": {
    "name": "ipython",
    "version": 3
   },
   "file_extension": ".py",
   "mimetype": "text/x-python",
   "name": "python",
   "nbconvert_exporter": "python",
   "pygments_lexer": "ipython3",
   "version": "3.6.4"
  }
 },
 "nbformat": 4,
 "nbformat_minor": 2
}
